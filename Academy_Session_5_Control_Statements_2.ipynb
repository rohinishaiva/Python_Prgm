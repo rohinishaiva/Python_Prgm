{
  "nbformat": 4,
  "nbformat_minor": 0,
  "metadata": {
    "colab": {
      "provenance": [],
      "include_colab_link": true
    },
    "kernelspec": {
      "name": "python3",
      "display_name": "Python 3"
    },
    "language_info": {
      "name": "python"
    }
  },
  "cells": [
    {
      "cell_type": "markdown",
      "metadata": {
        "id": "view-in-github",
        "colab_type": "text"
      },
      "source": [
        "<a href=\"https://colab.research.google.com/github/rohinishaiva/Python_Prgm/blob/main/Academy_Session_5_Control_Statements_2.ipynb\" target=\"_parent\"><img src=\"https://colab.research.google.com/assets/colab-badge.svg\" alt=\"Open In Colab\"/></a>"
      ]
    },
    {
      "cell_type": "markdown",
      "source": [],
      "metadata": {
        "id": "Mea_dgrMiwlI"
      }
    },
    {
      "cell_type": "code",
      "execution_count": null,
      "metadata": {
        "colab": {
          "base_uri": "https://localhost:8080/"
        },
        "id": "EOW074wfhhp4",
        "outputId": "646c689b-23ef-48ea-9ba5-0ae042df04ad"
      },
      "outputs": [
        {
          "output_type": "stream",
          "name": "stdout",
          "text": [
            "Nipender\n"
          ]
        }
      ],
      "source": [
        "#Logical operators and \"if\" refresher\n",
        "\n",
        "A = 5\n",
        "B = 6\n",
        "C = 100\n",
        "\n",
        "if (A<B) and (A>C):\n",
        "  print(\"Nipender\")\n",
        "  F = \"Hello\"\n",
        "else:\n",
        "  print(\"Gowtham\")\n",
        "\n",
        "\n"
      ]
    },
    {
      "cell_type": "markdown",
      "source": [
        "#Quiz 1"
      ],
      "metadata": {
        "id": "5Wpwut9AiyU4"
      }
    },
    {
      "cell_type": "code",
      "source": [
        "#Quiz 1\n",
        "\n",
        "x = True\n",
        "if x:\n",
        "   print(\"This statement\")\n",
        "print(\"Else this one\")\n"
      ],
      "metadata": {
        "id": "JzslVqIZi0wB"
      },
      "execution_count": null,
      "outputs": []
    },
    {
      "cell_type": "markdown",
      "source": [
        "#More"
      ],
      "metadata": {
        "id": "IkmiKrXhhjxL"
      }
    },
    {
      "cell_type": "code",
      "source": [
        "#Single if block\n",
        "#Cricket toss\n",
        "\n",
        "\n",
        "won_toss = True\n",
        "batting_track = False\n",
        "\n",
        "\n",
        "if won_toss and batting_track:\n",
        "  print(\"We will bat first\")\n",
        "\n",
        "\n",
        "if won_toss and (batting_track != True):\n",
        "  print(\"We will bowl first\")\n",
        "\n",
        "\n",
        "\n"
      ],
      "metadata": {
        "colab": {
          "base_uri": "https://localhost:8080/"
        },
        "id": "kso5z00bixpj",
        "outputId": "1c0ac820-277a-439b-c569-90f0d3a47cb0"
      },
      "execution_count": null,
      "outputs": [
        {
          "output_type": "stream",
          "name": "stdout",
          "text": [
            "We will bowl first\n"
          ]
        }
      ]
    },
    {
      "cell_type": "code",
      "source": [
        "#Toss using nested if\n",
        "\n"
      ],
      "metadata": {
        "id": "dA7m4muYhFSw"
      },
      "execution_count": null,
      "outputs": []
    },
    {
      "cell_type": "code",
      "source": [
        "#Toss using if else\n",
        "\n",
        "\n",
        "won_toss = False\n",
        "batting_track = False\n",
        "\n",
        "\n",
        "if won_toss:\n",
        "  if batting_track:\n",
        "    print(\"We will bat first\")\n",
        "  else:\n",
        "    print(\"We will bowl first\")\n"
      ],
      "metadata": {
        "colab": {
          "base_uri": "https://localhost:8080/",
          "height": 131
        },
        "id": "p1rJ-lTSiyME",
        "outputId": "1cbbddf9-cf14-4454-8c28-c12de2236b92"
      },
      "execution_count": null,
      "outputs": [
        {
          "output_type": "error",
          "ename": "SyntaxError",
          "evalue": "ignored",
          "traceback": [
            "\u001b[0;36m  File \u001b[0;32m\"<ipython-input-21-ee419e255faa>\"\u001b[0;36m, line \u001b[0;32m9\u001b[0m\n\u001b[0;31m    if batting_track >:\u001b[0m\n\u001b[0m                      ^\u001b[0m\n\u001b[0;31mSyntaxError\u001b[0m\u001b[0;31m:\u001b[0m invalid syntax\n"
          ]
        }
      ]
    },
    {
      "cell_type": "code",
      "source": [
        "#the same code without using nested if or \"else statements\"\n",
        "\n",
        "\n"
      ],
      "metadata": {
        "id": "gdR6wWqLyLK5"
      },
      "execution_count": null,
      "outputs": []
    },
    {
      "cell_type": "markdown",
      "source": [
        "#Quiz 2"
      ],
      "metadata": {
        "id": "HLqpYGvXjvhR"
      }
    },
    {
      "cell_type": "code",
      "source": [
        "#Quiz 2\n",
        "light = \"blue\"\n",
        "if light == \"red\":\n",
        "   light = \"blue\"\n",
        "   \n",
        "if light == \"blue\":\n",
        "   light = \"red\"\n",
        "\n",
        "print(light)"
      ],
      "metadata": {
        "id": "kJoI276Ljwl_",
        "colab": {
          "base_uri": "https://localhost:8080/"
        },
        "outputId": "1856c116-c9f5-42c0-8302-f89ac3d5de78"
      },
      "execution_count": null,
      "outputs": [
        {
          "output_type": "stream",
          "name": "stdout",
          "text": [
            "red\n"
          ]
        }
      ]
    },
    {
      "cell_type": "markdown",
      "source": [
        "#Dependent blocks vs exclusive blocks"
      ],
      "metadata": {
        "id": "BUDJWwZPi1IE"
      }
    },
    {
      "cell_type": "code",
      "source": [
        "#mutually exclusive if blocks\n",
        "#check if number is even\n",
        "\n",
        "\n",
        "\n"
      ],
      "metadata": {
        "colab": {
          "base_uri": "https://localhost:8080/"
        },
        "id": "oMeyR2wai2wl",
        "outputId": "f2d5548f-dd41-4d78-cb59-0d020fd04576"
      },
      "execution_count": null,
      "outputs": [
        {
          "output_type": "stream",
          "name": "stdout",
          "text": [
            "The number is even\n"
          ]
        }
      ]
    },
    {
      "cell_type": "markdown",
      "source": [
        "#Else if (if .. elif...else)"
      ],
      "metadata": {
        "id": "ycl55322EXZV"
      }
    },
    {
      "cell_type": "markdown",
      "source": [],
      "metadata": {
        "id": "l9izhFBVEbbH"
      }
    },
    {
      "cell_type": "code",
      "source": [
        "#how to give elif condition\n",
        "\n",
        "\n",
        "#81-100: A grade\n",
        "#51-80: B grade\n",
        "#33-50: C grade\n",
        "#11-32: D grade\n",
        "#<=10: Fail\n",
        "\n"
      ],
      "metadata": {
        "id": "TIoFaGpAEb1q"
      },
      "execution_count": null,
      "outputs": []
    },
    {
      "cell_type": "markdown",
      "source": [
        "#Quiz 3"
      ],
      "metadata": {
        "id": "dewvwSOojx1o"
      }
    },
    {
      "cell_type": "code",
      "source": [
        "#Quiz 3\n",
        "light = \"red\"\n",
        "if light == \"red\":\n",
        "   light = \"blue\"\n",
        "if light == \"blue\":\n",
        "   light = \"red\"\n",
        "\n",
        "print(light)"
      ],
      "metadata": {
        "id": "99qjzGx-jzlO"
      },
      "execution_count": null,
      "outputs": []
    },
    {
      "cell_type": "markdown",
      "source": [
        "#Question from the Operators Assignment (modified)\n",
        "\n",
        "Assume that the Delhi government had restarted the “odd-even” rule for vehicles. Vehicles with numbers ending with an even digit may only drive their vehicles in the city, if the day of the month is an even number. Odd numbered vehicles may only go out on odd numbered days.\n",
        "\n",
        "Ask the user to enter the last 4 integer digits of their vehicle number, as well as the day of the month (1 to 31).\n",
        "\n",
        "Your program should tell the user if s/he is allowed to take her/his vehicle out"
      ],
      "metadata": {
        "id": "bD7Y5BC46B_4"
      }
    },
    {
      "cell_type": "code",
      "source": [
        "#1\n",
        "\n",
        "V_No = int(input(\"Enter the last 4 digits of your vehicle number: \"))\n",
        "D_No = int(input(\"Enter the day of the month (1-31): \"))\n",
        "\n",
        "if (V_No%2 == 0) and (D_No%2 == 0):\n",
        "  print(\"It is safe to take your vehicle out\")\n",
        "elif (V_No % 2 == 1) and (D_No % 2 ==1):\n",
        "  print(\"It is safe to take your vehicle out\")\n",
        "else:\n",
        "  print(\"The police will catch you!!!!!!!\")"
      ],
      "metadata": {
        "colab": {
          "base_uri": "https://localhost:8080/"
        },
        "id": "bbNTyoi_6PGR",
        "outputId": "e99ac750-fb8e-4bf7-be24-ba3689b0c950"
      },
      "execution_count": null,
      "outputs": [
        {
          "output_type": "stream",
          "name": "stdout",
          "text": [
            "Enter the last 4 digits of your vehicle number: 0000\n",
            "Enter the day of the month (1-31): 26\n",
            "It is safe to take your vehicle out\n"
          ]
        }
      ]
    },
    {
      "cell_type": "code",
      "source": [
        "#2\n",
        "\n",
        "V_No = int(input(\"Enter the last 4 digits of your vehicle number: \"))\n",
        "D_No = int(input(\"Enter the day of the month (1-31): \"))\n",
        "\n",
        "if (V_No%2 == D_No%2):\n",
        "  print(\"It is safe to take your vehicle out\")\n",
        "else:\n",
        "  print(\"The police will catch you!!!!!!!\")\n"
      ],
      "metadata": {
        "colab": {
          "base_uri": "https://localhost:8080/"
        },
        "id": "U35aDXG--yyf",
        "outputId": "731a3add-6cec-4925-e6ed-8311f76106dd"
      },
      "execution_count": null,
      "outputs": [
        {
          "output_type": "stream",
          "name": "stdout",
          "text": [
            "Enter the last 4 digits of your vehicle number: 3245\n",
            "Enter the day of the month (1-31): 25\n",
            "It is safe to take your vehicle out\n"
          ]
        }
      ]
    },
    {
      "cell_type": "markdown",
      "source": [
        "#Real Numbers\n",
        "\n",
        "Ask the user to enter a real number.\n",
        "Determine if it is:\n",
        "* A natural number\n",
        "* A whole number\n",
        "* An integer"
      ],
      "metadata": {
        "id": "7_vsEuBW6Pc7"
      }
    },
    {
      "cell_type": "code",
      "source": [
        "#Integers only\n",
        "\n",
        "N = int(input(\"Enter an integer: \"))\n",
        "\n",
        "if N >= 1:\n",
        "  print(N,\"is a natural number\")\n",
        "else:\n",
        "  print(N,\"is NOT a natural number\")\n",
        "\n",
        "if N >= 0:\n",
        "  print(N,\"is a whole number\")\n",
        "else:\n",
        "  print(N,\"is NOT a whole number\")\n",
        "\n",
        "print(N,\"is an integer\")\n",
        "\n",
        "\n"
      ],
      "metadata": {
        "colab": {
          "base_uri": "https://localhost:8080/"
        },
        "id": "S5jOhA196t84",
        "outputId": "6c432000-03bf-496c-ceba-ef52c588e721"
      },
      "execution_count": null,
      "outputs": [
        {
          "output_type": "stream",
          "name": "stdout",
          "text": [
            "Enter an integer: -678\n",
            "-678 is NOT a natural number\n",
            "-678 is NOT a whole number\n",
            "-678 is an integer\n"
          ]
        }
      ]
    },
    {
      "cell_type": "code",
      "source": [
        "#Another way with Integers only\n",
        "\n",
        "N = int(input(\"Enter an integer: \"))\n",
        "\n",
        "if N >= 1:\n",
        "  print(N,\"is a natural number\")\n",
        "  print(N,\"is a whole number\")\n",
        "  print(N,\"is an integer\")\n",
        "elif N >= 0:\n",
        "  print(N,\"is NOT a natural number\")\n",
        "  print(N,\"is a whole number\")\n",
        "  print(N,\"is an integer\")\n",
        "else:\n",
        "  print(N,\"is NOT a natural number\")\n",
        "  print(N,\"is NOT a whole number\")\n",
        "  print(N,\"is an integer\")\n",
        "\n",
        "\n"
      ],
      "metadata": {
        "colab": {
          "base_uri": "https://localhost:8080/"
        },
        "id": "i0vrWoYnMpu8",
        "outputId": "862a75d1-66c2-4c30-ce09-9267bde94281"
      },
      "execution_count": null,
      "outputs": [
        {
          "output_type": "stream",
          "name": "stdout",
          "text": [
            "Enter an integer: 0\n",
            "0 is NOT a natural number\n",
            "0 is a whole number\n",
            "0 is an integer\n"
          ]
        }
      ]
    },
    {
      "cell_type": "code",
      "source": [
        "#int without else\n",
        "\n"
      ],
      "metadata": {
        "id": "OE54psWp6v3t"
      },
      "execution_count": null,
      "outputs": []
    },
    {
      "cell_type": "code",
      "source": [
        "#Float input allowed only\n",
        "\n",
        "\n",
        "N = float(input(\"Enter a Real number: \"))\n",
        "\n",
        "if N >= 1 and N%1==0:\n",
        "  print(int(N),\"is a natural number\")\n",
        "else:\n",
        "  print(N,\"is NOT a natural number\")\n",
        "\n",
        "if N >= 0 and N%1==0:\n",
        "  print(int(N),\"is a whole number\")\n",
        "else:\n",
        "  print(N,\"is NOT a whole number\")\n",
        "\n",
        "if N%1 ==0:\n",
        "  print(int(N),\"is an integer\")\n",
        "else:\n",
        "  print(N,\"is NOT an integer\")\n"
      ],
      "metadata": {
        "colab": {
          "base_uri": "https://localhost:8080/"
        },
        "id": "m1wHnPLwBwec",
        "outputId": "402dc064-69c0-4d67-b134-82ea24b279bf"
      },
      "execution_count": null,
      "outputs": [
        {
          "output_type": "stream",
          "name": "stdout",
          "text": [
            "Enter a Real number: -567\n",
            "-567.0 is NOT a natural number\n",
            "-567.0 is NOT a whole number\n",
            "-567 is an integer\n"
          ]
        }
      ]
    },
    {
      "cell_type": "code",
      "source": [
        "#Extras\n",
        "\n",
        "A = -13.0\n",
        "B = 3.14\n",
        "\n",
        "print(A%1)\n",
        "print(B%1)"
      ],
      "metadata": {
        "colab": {
          "base_uri": "https://localhost:8080/"
        },
        "id": "egmJQxfrCkX7",
        "outputId": "d84a2ed8-10f4-480f-b844-c98871e76851"
      },
      "execution_count": null,
      "outputs": [
        {
          "output_type": "stream",
          "name": "stdout",
          "text": [
            "0.0\n",
            "0.14000000000000012\n"
          ]
        }
      ]
    },
    {
      "cell_type": "markdown",
      "source": [
        "#Leap Year\n",
        "\n",
        "Ask the user to enter a calendar year.\n",
        "Tell the user if it is a Leap Year or Not"
      ],
      "metadata": {
        "id": "FH8ppgdH6wQg"
      }
    },
    {
      "cell_type": "code",
      "source": [
        "#Leap year code\n"
      ],
      "metadata": {
        "id": "xKvD_RsM630X"
      },
      "execution_count": null,
      "outputs": []
    }
  ]
}