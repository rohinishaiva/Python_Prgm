{
  "nbformat": 4,
  "nbformat_minor": 0,
  "metadata": {
    "colab": {
      "provenance": [],
      "include_colab_link": true
    },
    "kernelspec": {
      "name": "python3",
      "display_name": "Python 3"
    },
    "language_info": {
      "name": "python"
    }
  },
  "cells": [
    {
      "cell_type": "markdown",
      "metadata": {
        "id": "view-in-github",
        "colab_type": "text"
      },
      "source": [
        "<a href=\"https://colab.research.google.com/github/rohinishaiva/Python_Prgm/blob/main/Academy_Session_7_While_Loops.ipynb\" target=\"_parent\"><img src=\"https://colab.research.google.com/assets/colab-badge.svg\" alt=\"Open In Colab\"/></a>"
      ]
    },
    {
      "cell_type": "code",
      "source": [
        "#shorthand\n",
        "\n",
        "A = 5\n",
        "\n",
        "#A = A + (1 + 1000)\n",
        "\n",
        "A += (1 + 1000)\n",
        "\n",
        "print(A)\n",
        "\n"
      ],
      "metadata": {
        "id": "v0xND1W-nFw9"
      },
      "execution_count": null,
      "outputs": []
    },
    {
      "cell_type": "code",
      "source": [
        "#python is a case-sensitive language\n",
        "#True != true\n",
        "\n",
        "true = True\n",
        "\n",
        "if true:\n",
        "   print(1)\n",
        "else:\n",
        "   print(2)\n",
        "\n"
      ],
      "metadata": {
        "colab": {
          "base_uri": "https://localhost:8080/"
        },
        "id": "qHkO9CiKcCgG",
        "outputId": "1e8da8f7-8621-4aa6-914c-107a338575aa"
      },
      "execution_count": null,
      "outputs": [
        {
          "output_type": "stream",
          "name": "stdout",
          "text": [
            "1\n"
          ]
        }
      ]
    },
    {
      "cell_type": "code",
      "source": [
        "#IMPOSITION PROGRAM\n",
        "count = 1\n",
        "\n",
        "while count <= 5:\n",
        "\t  print(\"I will not use Snapchat during class\")\n",
        "\t  count += 1 #equivalent to count = count + 1\n",
        "\t  \n",
        "print(\"Now, we have come out of the loop!\")\n",
        "\n",
        "\n",
        "\n",
        "\n"
      ],
      "metadata": {
        "id": "6mVkBDb8Ngsz"
      },
      "execution_count": null,
      "outputs": []
    },
    {
      "cell_type": "code",
      "source": [],
      "metadata": {
        "id": "NaIqEJPjqMwu"
      },
      "execution_count": null,
      "outputs": []
    },
    {
      "cell_type": "code",
      "source": [
        "#I want to take a positive number from the user and print the square of the number\n",
        "\n",
        "while True:\n",
        "  N = int(input(\"Enter a positive number: \"))\n",
        "  if N <= 0:\n",
        "    break\n",
        "  print(\"The square of\",N,\"is\",N*N) #N**2\n",
        "\n",
        "print(\"You exited the loop\")"
      ],
      "metadata": {
        "colab": {
          "base_uri": "https://localhost:8080/"
        },
        "id": "qi4dkiVWoFlp",
        "outputId": "384b9430-ff02-4506-fb57-d004f6011620"
      },
      "execution_count": null,
      "outputs": [
        {
          "output_type": "stream",
          "name": "stdout",
          "text": [
            "Enter a positive number: 67\n",
            "The square of 67 is 4489\n",
            "Enter a positive number: 0\n",
            "You exited the loop\n"
          ]
        }
      ]
    },
    {
      "cell_type": "code",
      "source": [
        "#why does print add new lines\n",
        "\n",
        "\n",
        "print(1, end = \",\")\n",
        "print(2, end = \",\")\n",
        "print(3)"
      ],
      "metadata": {
        "colab": {
          "base_uri": "https://localhost:8080/"
        },
        "id": "8SaqNfVEuZE5",
        "outputId": "26e6d866-77b2-4645-c5a5-52590464443d"
      },
      "execution_count": null,
      "outputs": [
        {
          "output_type": "stream",
          "name": "stdout",
          "text": [
            "1,2,3\n"
          ]
        }
      ]
    },
    {
      "cell_type": "code",
      "source": [
        "#PRINTING INCREASING NUMBERS\n",
        "\n",
        "X = int(input(\"Enter a positive number: \"))\n",
        "I = 1 #intitializing variable I with the value 1\n",
        "\n",
        "print(\"HEY USER! I will now print ALL the natural numbers from 1 to\", X,\"in a single line\")\n",
        "\n",
        "while I <= X:\n",
        "  if I != X:\n",
        "    print(I,end = \",\")\n",
        "  else:\n",
        "    print(I,end = \"\\n\")\n",
        "  I += 1\n",
        "\n",
        "print(\"THE END\")\n",
        "\n",
        "\n",
        "\n",
        "\n",
        "\n"
      ],
      "metadata": {
        "colab": {
          "base_uri": "https://localhost:8080/"
        },
        "id": "Y1I4LS1oXt0I",
        "outputId": "a13eb826-9f06-4884-e105-8968f5604323"
      },
      "execution_count": null,
      "outputs": [
        {
          "output_type": "stream",
          "name": "stdout",
          "text": [
            "Enter a positive number: 4\n",
            "HEY USER! I will now print ALL the natural numbers from 1 to 4 in a single line\n",
            "1,2,3,4,THE END\n"
          ]
        }
      ]
    },
    {
      "cell_type": "code",
      "source": [
        "#Printing increasing numbers in the same line"
      ],
      "metadata": {
        "id": "merU-OJjVUou"
      },
      "execution_count": null,
      "outputs": []
    },
    {
      "cell_type": "code",
      "execution_count": null,
      "metadata": {
        "id": "CqhBI2L8NHB9"
      },
      "outputs": [],
      "source": [
        "#print multiplication table of any number N (which I get from the user)\n",
        "#output if N = 4:\n",
        "# 4 x 1 = 4\n",
        "# 4 x 2 = 8\n",
        "# 4 x 3 = 12\n",
        "# 4 x 4 = 16\n",
        "# 4 x 5 = 20\n",
        "\n",
        "N = int(input(\"Enter positive number N: \"))\n",
        "\n",
        "i = 1 #should increase from 1 to N\n",
        "\n",
        "while i <= 5:\n",
        "  print(N,\"x\",i,\"=\",N*i)\n",
        "  i = i + 1\n"
      ]
    },
    {
      "cell_type": "code",
      "source": [
        "#getting unlimited inputs from user\n",
        "\n",
        "while True:\n",
        "  N = int(input(\"Enter positive number N: \"))\n",
        "  if N <=0:\n",
        "    break\n"
      ],
      "metadata": {
        "colab": {
          "base_uri": "https://localhost:8080/"
        },
        "id": "NpVM93ivkeX9",
        "outputId": "9dedbd70-88be-49f5-a44b-1ddf62727984"
      },
      "execution_count": null,
      "outputs": [
        {
          "name": "stdout",
          "output_type": "stream",
          "text": [
            "Enter positive number N: 56\n",
            "Enter positive number N: 789\n",
            "Enter positive number N: 0304\n",
            "Enter positive number N: 6\n",
            "Enter positive number N: 3\n",
            "Enter positive number N: 2\n",
            "Enter positive number N: 7\n",
            "Enter positive number N: 5\n",
            "Enter positive number N: -3\n"
          ]
        }
      ]
    },
    {
      "cell_type": "code",
      "source": [
        "#Combining the previous two loops\n",
        "\n",
        "while True:\n",
        "  N = int(input(\"Enter positive number N: \"))\n",
        "  if N <=0:\n",
        "    break\n",
        "  i = 1 #should increase from 1 to N\n",
        "  while i <= 5:\n",
        "      print(N,\"x\",i,\"=\",N*i)\n",
        "      i = i + 1\n",
        "  print(\"This statement belongs to the outer while loop\")\n",
        "\n",
        "print(\"This statement is outside BOTH the while loops\")\n",
        "\n"
      ],
      "metadata": {
        "colab": {
          "base_uri": "https://localhost:8080/"
        },
        "id": "8XZal0bIl9-Z",
        "outputId": "b6198d9b-6cab-4c44-ba48-9409d364f56f"
      },
      "execution_count": null,
      "outputs": [
        {
          "output_type": "stream",
          "name": "stdout",
          "text": [
            "Enter positive number N: 0\n",
            "This statement is outside BOTH the while loops\n"
          ]
        }
      ]
    },
    {
      "cell_type": "code",
      "source": [
        "#floor division\n",
        "\n",
        "A = -3\n",
        "B = 2\n",
        "\n",
        "#print(A/B)\n",
        "\n",
        "#print(int(A/B))\n",
        "\n",
        "#print(A//B)\n",
        "\n",
        "\n"
      ],
      "metadata": {
        "colab": {
          "base_uri": "https://localhost:8080/"
        },
        "id": "CPZ8UZ5Lp7_b",
        "outputId": "3754c389-bfc6-4464-9f9c-514e70926d83"
      },
      "execution_count": null,
      "outputs": [
        {
          "output_type": "stream",
          "name": "stdout",
          "text": [
            "-1.5\n",
            "-1\n",
            "-2\n"
          ]
        }
      ]
    },
    {
      "cell_type": "code",
      "source": [
        "A = 13\n",
        "B = 10\n",
        "\n",
        "print(\"Quotient is:\",A//B)\n",
        "print(\"Remainder is:\",A%B)"
      ],
      "metadata": {
        "colab": {
          "base_uri": "https://localhost:8080/"
        },
        "id": "_yWJZH_64wli",
        "outputId": "0dff0545-0244-4c08-c5dc-c1d9427309ca"
      },
      "execution_count": null,
      "outputs": [
        {
          "output_type": "stream",
          "name": "stdout",
          "text": [
            "Quotient is: 1\n",
            "Remainder is: 3\n"
          ]
        }
      ]
    },
    {
      "cell_type": "code",
      "source": [
        "#code to replicate a floor function\n",
        "#Homework\n",
        "\n",
        "N = float(input(\"Enter any floating point number: \"))\n",
        "\n",
        "\n",
        "#print the floor value of N\n",
        "\n",
        "\n"
      ],
      "metadata": {
        "id": "b94rA0linAsY"
      },
      "execution_count": null,
      "outputs": []
    },
    {
      "cell_type": "code",
      "source": [
        "#get a positive integer N from the user\n",
        "#tell the user if N is a perfect square\n",
        "\n",
        "#if for any integer \"i\", if (i * i == N), then N is a perfect square\n",
        "\n",
        "N = int(input(\"Enter any positive integer: \"))\n",
        "flag = 0 #to check if perfect square found\n",
        "i = 1\n",
        "\n",
        "while i*i <=N:\n",
        "  if i*i == N:\n",
        "    flag = 1\n",
        "    print(N, \"is a perfect square\")\n",
        "  i += 1\n",
        "\n",
        "if flag == 0:\n",
        "  print(N, \"is NOT a perfect square\")\n",
        "\n"
      ],
      "metadata": {
        "colab": {
          "base_uri": "https://localhost:8080/"
        },
        "id": "QW5Ug6oEsYqj",
        "outputId": "772fbbaa-d77b-4e24-b19c-6697520d00fe"
      },
      "execution_count": null,
      "outputs": [
        {
          "output_type": "stream",
          "name": "stdout",
          "text": [
            "Enter any positive integer: 56\n",
            "56 is NOT a perfect square\n"
          ]
        }
      ]
    },
    {
      "cell_type": "markdown",
      "source": [
        "#Homework questions"
      ],
      "metadata": {
        "id": "ZEWDjCT_v081"
      }
    },
    {
      "cell_type": "code",
      "source": [
        "#write ceiling operation\n",
        "\n",
        "\n",
        "#try this as homework"
      ],
      "metadata": {
        "id": "dnAzS-5lsAcZ"
      },
      "execution_count": 1,
      "outputs": []
    },
    {
      "cell_type": "code",
      "source": [
        "#find HCF & LCM\n",
        "#homework question\n",
        "\n"
      ],
      "metadata": {
        "id": "D3RA2wRLvqEf"
      },
      "execution_count": null,
      "outputs": []
    }
  ]
}