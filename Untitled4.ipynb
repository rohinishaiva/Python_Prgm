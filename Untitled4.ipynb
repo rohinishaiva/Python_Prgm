{
  "nbformat": 4,
  "nbformat_minor": 0,
  "metadata": {
    "colab": {
      "provenance": [],
      "authorship_tag": "ABX9TyMouZFmESmeQl/5APiIX/xw",
      "include_colab_link": true
    },
    "kernelspec": {
      "name": "python3",
      "display_name": "Python 3"
    },
    "language_info": {
      "name": "python"
    }
  },
  "cells": [
    {
      "cell_type": "markdown",
      "metadata": {
        "id": "view-in-github",
        "colab_type": "text"
      },
      "source": [
        "<a href=\"https://colab.research.google.com/github/rohinishaiva/Python_Prgm/blob/main/Untitled4.ipynb\" target=\"_parent\"><img src=\"https://colab.research.google.com/assets/colab-badge.svg\" alt=\"Open In Colab\"/></a>"
      ]
    },
    {
      "cell_type": "code",
      "execution_count": 3,
      "metadata": {
        "id": "942_PLI-LAFb"
      },
      "outputs": [],
      "source": [
        "#class \n",
        "\n",
        "#syntax -\n",
        "\n",
        "#class Class_Name:\n",
        "# statement 1\n",
        "# .\n",
        "# .\n",
        "# .\n",
        "# statement N\n",
        "\n",
        "class Employee:                   #class\n",
        "  def display(self):              #Instance Method\n",
        "    print(\"Hello Rohini Here\")\n"
      ]
    },
    {
      "cell_type": "code",
      "source": [
        "#object\n",
        "\n",
        "class Employee:                   #class\n",
        "  def display(self):              #Instance Method\n",
        "    print(\"Hello Rohini Here\")\n",
        "emp = Employee()                  #object\n",
        "emp.display()\n",
        "\n"
      ],
      "metadata": {
        "colab": {
          "base_uri": "https://localhost:8080/"
        },
        "id": "elyjM49YOUJB",
        "outputId": "cc617697-dcfe-4fcb-b0ce-a0a1b428c3d1"
      },
      "execution_count": 4,
      "outputs": [
        {
          "output_type": "stream",
          "name": "stdout",
          "text": [
            "Hello Rohini Here\n"
          ]
        }
      ]
    },
    {
      "cell_type": "code",
      "source": [
        "#constructor\n",
        "\n",
        "class Employee:\n",
        "  def __init__(self):                 #constructor\n",
        "    print(\"constructor is executed\")\n",
        "emp = Employee()"
      ],
      "metadata": {
        "colab": {
          "base_uri": "https://localhost:8080/"
        },
        "id": "BC2tDoeyMrO5",
        "outputId": "926024ad-1f5b-4424-a491-86051c9eca80"
      },
      "execution_count": 2,
      "outputs": [
        {
          "output_type": "stream",
          "name": "stdout",
          "text": [
            "constructor is executed\n"
          ]
        }
      ]
    },
    {
      "cell_type": "code",
      "source": [
        "#inheritance\n",
        "\n",
        "class Parent:\n",
        "  def func1(self):\n",
        "    print('this is a parent function')\n",
        "  \n",
        "class Child(Parent):\n",
        "  def func2(self):\n",
        "    print('this is a child function')\n",
        "\n",
        "ob = Child()\n",
        "ob.func1()\n",
        "ob.func2()\n"
      ],
      "metadata": {
        "colab": {
          "base_uri": "https://localhost:8080/"
        },
        "id": "agr0gjPoOrzw",
        "outputId": "23fc9b7c-6eeb-4096-b250-9d889059e72e"
      },
      "execution_count": 5,
      "outputs": [
        {
          "output_type": "stream",
          "name": "stdout",
          "text": [
            "this is a parent function\n",
            "this is a child function\n"
          ]
        }
      ]
    },
    {
      "cell_type": "code",
      "source": [
        "#Method Overriding\n",
        "\n",
        "class Parent:\n",
        "  def func1(self):\n",
        "    print('this is function 1')\n",
        "\n",
        "class Child(Parent):\n",
        "  def func2(self):\n",
        "    print('this is function 2')\n",
        "\n",
        "ob = Child()\n",
        "ob.func1()"
      ],
      "metadata": {
        "colab": {
          "base_uri": "https://localhost:8080/"
        },
        "id": "RDKucpCFPiWO",
        "outputId": "05233dc1-a2b5-498d-d61d-8da26c3c1134"
      },
      "execution_count": 9,
      "outputs": [
        {
          "output_type": "stream",
          "name": "stdout",
          "text": [
            "this is function 1\n"
          ]
        }
      ]
    },
    {
      "cell_type": "code",
      "source": [
        "#Encapsulation\n",
        "\n",
        "class myClass:\n",
        "  __a = 10\n",
        "  def disp(self):            #private Method\n",
        "    print(self.__a)          \n",
        "\n",
        "ob = myClass()\n",
        "ob.disp()"
      ],
      "metadata": {
        "colab": {
          "base_uri": "https://localhost:8080/"
        },
        "id": "tNBDilvVQ0WE",
        "outputId": "f279ae56-dcc3-4f8e-d4d2-31c0d64d0c27"
      },
      "execution_count": 14,
      "outputs": [
        {
          "output_type": "stream",
          "name": "stdout",
          "text": [
            "10\n"
          ]
        }
      ]
    },
    {
      "cell_type": "code",
      "source": [
        "#Types of methods\n",
        "\n",
        "class Test:\n",
        "  def m1(self):\n",
        "    print('Instance Method')     #Access by object\n",
        "\n",
        "  @classmethod\n",
        "  def m2(cls):\n",
        "    print(\"class method\")       #Access by name of the class\n",
        "\n",
        "  @staticmethod\n",
        "  def m3():\n",
        "    print(\"static method\")     #Access by name of the class\n",
        "\n",
        "t = Test()\n",
        "t.m1()\n",
        "\n",
        "Test.m2()\n",
        "Test.m3()\n"
      ],
      "metadata": {
        "colab": {
          "base_uri": "https://localhost:8080/"
        },
        "id": "UcGOXCUlR5s5",
        "outputId": "7c97340d-ba2d-42e0-94fc-250c7d0b6274"
      },
      "execution_count": 15,
      "outputs": [
        {
          "output_type": "stream",
          "name": "stdout",
          "text": [
            "Instance Method\n",
            "class method\n",
            "static method\n"
          ]
        }
      ]
    }
  ]
}