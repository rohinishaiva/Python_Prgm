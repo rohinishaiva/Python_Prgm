{
  "nbformat": 4,
  "nbformat_minor": 0,
  "metadata": {
    "colab": {
      "provenance": [],
      "include_colab_link": true
    },
    "kernelspec": {
      "name": "python3",
      "display_name": "Python 3"
    },
    "language_info": {
      "name": "python"
    }
  },
  "cells": [
    {
      "cell_type": "markdown",
      "metadata": {
        "id": "view-in-github",
        "colab_type": "text"
      },
      "source": [
        "<a href=\"https://colab.research.google.com/github/rohinishaiva/Python_Prgm/blob/main/ProblemsOnIterations.ipynb\" target=\"_parent\"><img src=\"https://colab.research.google.com/assets/colab-badge.svg\" alt=\"Open In Colab\"/></a>"
      ]
    },
    {
      "cell_type": "code",
      "execution_count": null,
      "metadata": {
        "colab": {
          "base_uri": "https://localhost:8080/"
        },
        "id": "v_tW_0rlMDGl",
        "outputId": "fd08ccd3-658c-4ff6-8ece-52a21bfb028d"
      },
      "outputs": [
        {
          "output_type": "stream",
          "name": "stdout",
          "text": [
            "2\n",
            "2\n"
          ]
        }
      ],
      "source": [
        "#Neeraj's code\n",
        "\n",
        "x = 2\n",
        "for i in range(x):  #start=0 , stop=2 , step=1 -> 0,1\n",
        "  print(x)"
      ]
    },
    {
      "cell_type": "markdown",
      "source": [
        "Get a number N from the user.\n",
        "\n",
        "print factorial of N\n",
        "\n",
        "* for loop\n",
        "* while loop"
      ],
      "metadata": {
        "id": "PRFJnnBXN61D"
      }
    },
    {
      "cell_type": "code",
      "source": [
        "#factorial using for loop\n",
        "\n",
        "N = int(input()) #integer input\n",
        "factorial = 1 #intitialize to 1\n",
        "\n",
        "for y in range(N,0,-1):\n",
        "  factorial = factorial * y #factorial *= y\n",
        "\n",
        "print(\"The factorial of\",N,\"is\",factorial)\n"
      ],
      "metadata": {
        "id": "3YE2tZUzOBvy"
      },
      "execution_count": null,
      "outputs": []
    },
    {
      "cell_type": "code",
      "source": [
        "#factorial using while loop\n",
        "\n",
        "\n",
        "N = int(input()) \n",
        "factorial = 1\n",
        "copy_of_N = N\n",
        "\n",
        "while (copy_of_N >=1):\n",
        "  factorial *= copy_of_N\n",
        "  copy_of_N -= 1\n",
        "\n",
        "print(\"The factorial of\",N,\"is\",factorial)\n"
      ],
      "metadata": {
        "id": "UZ5ViyiIOGiN"
      },
      "execution_count": null,
      "outputs": []
    },
    {
      "cell_type": "markdown",
      "source": [
        "Get a positive integer N from the user\n",
        "Print all the factors of N"
      ],
      "metadata": {
        "id": "mhyptT8FSdDi"
      }
    },
    {
      "cell_type": "code",
      "source": [
        "#factors using for loop\n",
        "\n",
        "N = int(input())\n",
        "\n",
        "for i in range(1,N+1):\n",
        "  if (N % i) == 0:\n",
        "    print(i, end = \" \")\n",
        "    #if N is divisible by i, then print i\n",
        "  \n",
        "    \n",
        "\n"
      ],
      "metadata": {
        "colab": {
          "base_uri": "https://localhost:8080/"
        },
        "id": "lfuqOBpoSjWb",
        "outputId": "7b887890-e882-4e69-a15a-2c926d656b3a"
      },
      "execution_count": null,
      "outputs": [
        {
          "output_type": "stream",
          "name": "stdout",
          "text": [
            "17\n",
            "1 17 "
          ]
        }
      ]
    },
    {
      "cell_type": "code",
      "source": [
        "#copy of previous using \"pass\" statement\n",
        "#factors using for loop\n",
        "\n",
        "N = int(input())\n",
        "\n",
        "for i in range(1,N+1):\n",
        "  if (N % i) == 0:\n",
        "    print(i, end = \" \")\n",
        "    #if N is divisible by i, then print i\n",
        "  else:\n",
        "    pass\n",
        "    #if N is NOT divisible by i, then do nothing    \n",
        "    "
      ],
      "metadata": {
        "id": "c9VV-8aXU6XK"
      },
      "execution_count": null,
      "outputs": []
    },
    {
      "cell_type": "markdown",
      "source": [
        "Get a number N from the user\n",
        "\n",
        "Check if it is a PRIME number"
      ],
      "metadata": {
        "id": "eqPwxMCfVGtM"
      }
    },
    {
      "cell_type": "code",
      "source": [
        "#prints all the factors of N\n",
        "#checks if N is a prime number\n",
        "\n",
        "N = int(input())\n",
        "counter = 0 \n",
        "\n",
        "for i in range(1,N+1):\n",
        "  if (N % i) == 0:\n",
        "    counter += 1     #increment counter every time you find a factor\n",
        "    print(i, end = \" \")\n",
        "\n",
        "print()\n",
        "print(N,\"has\",counter,\"factors\")\n",
        "\n",
        "if counter == 2:\n",
        "    print(N,\"is a prime number\")\n",
        "else:\n",
        "    print(N,\"is NOT a prime number\")"
      ],
      "metadata": {
        "colab": {
          "base_uri": "https://localhost:8080/"
        },
        "id": "Yg_5uY-eT5Ho",
        "outputId": "ec7ff9c4-f8e1-4b15-8194-283a72458def"
      },
      "execution_count": null,
      "outputs": [
        {
          "output_type": "stream",
          "name": "stdout",
          "text": [
            "5\n",
            "1 5 "
          ]
        }
      ]
    },
    {
      "cell_type": "code",
      "source": [
        "#NO need to print all factors\n",
        "#ONLY want to check if N is a prime number\n",
        "\n",
        "N = int(input())\n",
        "counter = 0 \n",
        "\n",
        "for i in range(1,N+1):\n",
        "  if (N % i) == 0:\n",
        "    counter += 1     #increment counter every time you find a factor\n",
        "    if counter > 2:\n",
        "      break\n",
        "\n",
        "if counter == 2:\n",
        "    print(N,\"is a prime number\")\n",
        "else:\n",
        "    print(N,\"is NOT a prime number\")"
      ],
      "metadata": {
        "colab": {
          "base_uri": "https://localhost:8080/"
        },
        "id": "S6Cc_TS6UKom",
        "outputId": "19f8ad4f-e401-4f60-9105-082e29f00b69"
      },
      "execution_count": null,
      "outputs": [
        {
          "output_type": "stream",
          "name": "stdout",
          "text": [
            "17\n",
            "17 is a prime number\n"
          ]
        }
      ]
    },
    {
      "cell_type": "markdown",
      "source": [
        "Ask user to enter 2 numbers.\n",
        "\n",
        "Print all prime numbers between these two (both inclusive)"
      ],
      "metadata": {
        "id": "fOJTT5P-fMkG"
      }
    },
    {
      "cell_type": "code",
      "source": [
        "#COde below\n",
        "\n",
        "print(\"Hey USER! Enter two numbers in the next two lines: \")\n",
        "\n",
        "A = int(input())\n",
        "B = int(input())\n",
        "\n",
        "if A > B:\n",
        "  stop = A + 1\n",
        "  start = B\n",
        "else:\n",
        "  stop = B + 1\n",
        "  start = A\n",
        "\n",
        "for N in range(start,stop):\n",
        "  counter = 0 \n",
        "\n",
        "  for i in range(1,N+1):\n",
        "    if (N % i) == 0:\n",
        "      counter += 1     #increment counter every time you find a factor\n",
        "      if counter > 2:\n",
        "        break\n",
        "\n",
        "  if counter == 2:\n",
        "    print(N, end =\" \")\n",
        "  else:\n",
        "    pass"
      ],
      "metadata": {
        "colab": {
          "base_uri": "https://localhost:8080/"
        },
        "id": "_ni8etPvfR-D",
        "outputId": "696d1073-1332-4d1b-860f-1c51f7819d59"
      },
      "execution_count": null,
      "outputs": [
        {
          "output_type": "stream",
          "name": "stdout",
          "text": [
            "Hey USER! Enter two numbers in the next two lines: \n",
            "78\n",
            "34\n",
            "37 41 43 47 53 59 61 67 71 73 "
          ]
        }
      ]
    },
    {
      "cell_type": "code",
      "source": [
        "#rewriting the same program as earlier\n",
        "#skipping the prime number check for all even number by using continue\n",
        "\n",
        "print(\"Hey USER! Enter two numbers in the next two lines: \")\n",
        "\n",
        "A = int(input())\n",
        "B = int(input())\n",
        "\n",
        "if A > B:\n",
        "  stop = A + 1\n",
        "  start = B\n",
        "else:\n",
        "  stop = B + 1\n",
        "  start = A\n",
        "\n",
        "for N in range(start,stop):\n",
        "  counter = 0 \n",
        "\n",
        "  if N%2 ==0 and (N!=2):\n",
        "    continue\n",
        "\n",
        "  for i in range(1,N+1):\n",
        "    if (N % i) == 0:\n",
        "      counter += 1     #increment counter every time you find a factor\n",
        "      if counter > 2:\n",
        "        break\n",
        "\n",
        "  if counter == 2:\n",
        "    print(N, end =\" \")\n",
        "  else:\n",
        "    pass"
      ],
      "metadata": {
        "colab": {
          "base_uri": "https://localhost:8080/"
        },
        "id": "3sNrS2LFkiF7",
        "outputId": "7caccb4e-8886-4df9-8d76-f142d220b7aa"
      },
      "execution_count": null,
      "outputs": [
        {
          "output_type": "stream",
          "name": "stdout",
          "text": [
            "Hey USER! Enter two numbers in the next two lines: \n",
            "100\n",
            "1\n",
            "2 3 5 7 11 13 17 19 23 29 31 37 41 43 47 53 59 61 67 71 73 79 83 89 97 "
          ]
        }
      ]
    },
    {
      "cell_type": "code",
      "source": [
        "pass\n",
        "pass\n",
        "pass"
      ],
      "metadata": {
        "id": "Ze44j3yDl0Dv"
      },
      "execution_count": null,
      "outputs": []
    },
    {
      "cell_type": "markdown",
      "source": [
        "while... else"
      ],
      "metadata": {
        "id": "yDnRWfFamOtj"
      }
    },
    {
      "cell_type": "code",
      "source": [
        "#while loop to check if a user input N is a perfect square\n",
        "\n",
        "N = int(input())\n",
        "\n",
        "i = 1\n",
        "flag = 0\n",
        "\n",
        "while i*i <=N:\n",
        "  if i*i == N:\n",
        "    print(N,\"is a perfect square\")\n",
        "    flag = 1\n",
        "  i += 1\n",
        "\n",
        "if flag != 1:\n",
        "  print(N,\"is NOT a perfect square\")"
      ],
      "metadata": {
        "colab": {
          "base_uri": "https://localhost:8080/"
        },
        "id": "m1YpyjKumXA5",
        "outputId": "bbcd5b9c-d889-4219-b06e-ea3e0a91e54a"
      },
      "execution_count": null,
      "outputs": [
        {
          "output_type": "stream",
          "name": "stdout",
          "text": [
            "63\n",
            "63 is NOT a perfect square\n"
          ]
        }
      ]
    },
    {
      "cell_type": "code",
      "source": [
        "#same program using while \n",
        "\n",
        "\n",
        "N = int(input())\n",
        "\n",
        "i = 1\n",
        "\n",
        "while i*i <=N:\n",
        "  if i*i == N:\n",
        "    print(N,\"is a perfect square\")\n",
        "    break\n",
        "  i += 1\n",
        "else:\n",
        "  print(N,\"is NOT a perfect square\")\n",
        "\n",
        "\n",
        "print(\"This statement is OUTSIDE the loop\")"
      ],
      "metadata": {
        "colab": {
          "base_uri": "https://localhost:8080/"
        },
        "id": "38FKnOJnnN6j",
        "outputId": "3fddbb88-986e-4e18-f03b-f89f9c9c03dc"
      },
      "execution_count": null,
      "outputs": [
        {
          "name": "stdout",
          "output_type": "stream",
          "text": [
            "19\n"
          ]
        }
      ]
    },
    {
      "cell_type": "code",
      "source": [],
      "metadata": {
        "id": "5rD3INVsp0aA"
      },
      "execution_count": null,
      "outputs": []
    },
    {
      "cell_type": "code",
      "source": [
        "while False:\n",
        "  print(\"Soumen\")\n",
        "else:\n",
        "  print(\"Raja\")"
      ],
      "metadata": {
        "colab": {
          "base_uri": "https://localhost:8080/"
        },
        "id": "zIW-kaPBp0bM",
        "outputId": "620dd7d2-ecdc-4385-a79d-cb1f804ade75"
      },
      "execution_count": null,
      "outputs": [
        {
          "output_type": "stream",
          "name": "stdout",
          "text": [
            "Raja\n"
          ]
        }
      ]
    }
  ]
}