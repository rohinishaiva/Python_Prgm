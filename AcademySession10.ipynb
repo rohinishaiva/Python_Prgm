{
  "nbformat": 4,
  "nbformat_minor": 0,
  "metadata": {
    "colab": {
      "provenance": [],
      "include_colab_link": true
    },
    "kernelspec": {
      "name": "python3",
      "display_name": "Python 3"
    },
    "language_info": {
      "name": "python"
    }
  },
  "cells": [
    {
      "cell_type": "markdown",
      "metadata": {
        "id": "view-in-github",
        "colab_type": "text"
      },
      "source": [
        "<a href=\"https://colab.research.google.com/github/rohinishaiva/Python_Prgm/blob/main/AcademySession10.ipynb\" target=\"_parent\"><img src=\"https://colab.research.google.com/assets/colab-badge.svg\" alt=\"Open In Colab\"/></a>"
      ]
    },
    {
      "cell_type": "code",
      "execution_count": null,
      "metadata": {
        "colab": {
          "base_uri": "https://localhost:8080/"
        },
        "id": "pVjp4B5uZ9ja",
        "outputId": "ea9192be-7fd5-4dc0-f3d4-1c846434c6c6"
      },
      "outputs": [
        {
          "output_type": "stream",
          "name": "stdout",
          "text": [
            "4096\n",
            "4096 is NOT a prime number\n",
            "The for loop ran 4096 times\n"
          ]
        }
      ],
      "source": [
        "#1\n",
        "#check if a number is a prime number\n",
        "\n",
        "N = int(input())\n",
        "\n",
        "counter = 0 #initialize to 0\n",
        "no_of_iterations = 0 #I want to count the number of iterations\n",
        "\n",
        "for i in range(1,N+1):\n",
        "  no_of_iterations += 1 #increment every time we enter the for block\n",
        "  if (N%i==0): #checking if i is a factor of N\n",
        "    counter += 1\n",
        "\n",
        "if counter == 2:\n",
        "  print(N,\"is a prime number\")\n",
        "else:\n",
        "  print(N,\"is NOT a prime number\")\n",
        "\n",
        "print(\"The for loop ran\",no_of_iterations,\"times\")"
      ]
    },
    {
      "cell_type": "code",
      "source": [
        "#2\n",
        "#optimising previous code\n",
        "\n",
        "N = int(input())\n",
        "\n",
        "counter = 0 #initialize to 0\n",
        "no_of_iterations = 0 #I want to count the number of iterations\n",
        "\n",
        "for i in range(1,N+1):\n",
        "  no_of_iterations += 1 #increment every time we enter the for block\n",
        "  if (N%i==0): #checking if i is a factor of N\n",
        "    counter += 1\n",
        "  if counter > 2:\n",
        "    print(N,\"is NOT a prime number\")\n",
        "    break\n",
        "\n",
        "\n",
        "if counter == 2:\n",
        "  print(N,\"is a prime number\")\n",
        "\n",
        "\n",
        "print(\"The for loop ran\",no_of_iterations,\"times\")"
      ],
      "metadata": {
        "colab": {
          "base_uri": "https://localhost:8080/"
        },
        "id": "mrgVOAxHhIj1",
        "outputId": "e2eafbab-a08a-48c6-f1b2-229fbf1a2535"
      },
      "execution_count": null,
      "outputs": [
        {
          "output_type": "stream",
          "name": "stdout",
          "text": [
            "1234\n",
            "1234 is NOT a prime number\n",
            "The for loop ran 617 times\n"
          ]
        }
      ]
    },
    {
      "cell_type": "code",
      "source": [
        "#3\n",
        "#optimising further for even number values of N\n",
        "\n",
        "\n",
        "#optimising previous code\n",
        "\n",
        "N = int(input())\n",
        "\n",
        "if N%2==0 and N != 2:\n",
        "  print(N,\"is NOT a prime number\")\n",
        "elif N == 2:\n",
        "  print(\"2 is a prime number\")\n",
        "\n",
        "counter = 0 #initialize to 0\n",
        "no_of_iterations = 0 #I want to count the number of iterations\n",
        "\n",
        "if N%2 ==1:\n",
        "  for i in range(1,N+1):\n",
        "    no_of_iterations += 1 #increment every time we enter the for block\n",
        "    if (N%i==0): #checking if i is a factor of N\n",
        "     counter += 1\n",
        "    if counter > 2:\n",
        "     print(N,\"is NOT a prime number\")\n",
        "     break\n",
        "\n",
        "\n",
        "  if counter == 2:\n",
        "    print(N,\"is a prime number\")\n",
        "\n",
        "\n",
        "print(\"The for loop ran\",no_of_iterations,\"times\")"
      ],
      "metadata": {
        "colab": {
          "base_uri": "https://localhost:8080/"
        },
        "id": "MXln2DHyjxyy",
        "outputId": "80370822-9569-423c-da97-83d944a407fd"
      },
      "execution_count": null,
      "outputs": [
        {
          "output_type": "stream",
          "name": "stdout",
          "text": [
            "33\n",
            "33 is NOT a prime number\n",
            "The for loop ran 11 times\n"
          ]
        }
      ]
    },
    {
      "cell_type": "code",
      "source": [
        "\n",
        "\n",
        "\n"
      ],
      "metadata": {
        "id": "fBAaShp1mMUl"
      },
      "execution_count": null,
      "outputs": []
    },
    {
      "cell_type": "markdown",
      "source": [
        "HCF"
      ],
      "metadata": {
        "id": "JNsMVwmbougU"
      }
    },
    {
      "cell_type": "code",
      "source": [
        "#code to find all factors of a number N\n",
        "\n",
        "N = int(input())\n",
        "\n",
        "for i in range(1, N+1):\n",
        "  if N%i==0:\n",
        "    print(i,end =\" \")\n",
        "     "
      ],
      "metadata": {
        "colab": {
          "base_uri": "https://localhost:8080/"
        },
        "id": "YakLfMYTovdm",
        "outputId": "bf6b96d8-9a68-4180-e972-4ff5c646ceb9"
      },
      "execution_count": null,
      "outputs": [
        {
          "output_type": "stream",
          "name": "stdout",
          "text": [
            "12\n",
            "1 2 3 4 6 12 "
          ]
        }
      ]
    },
    {
      "cell_type": "code",
      "source": [
        "#common factors of N1 and N2\n",
        "\n",
        "\n",
        "N1 = int(input(\"Enter N1: \"))\n",
        "N2 = int(input(\"Enter N2: \"))\n",
        "HCF = 0 #the initial value doesn't matter\n",
        "\n",
        "start = 1\n",
        "if N1 > N2: \n",
        "  stop = N2 + 1\n",
        "else:\n",
        "  stop = N1 + 1\n",
        "\n",
        "for i in range(start,stop):\n",
        "  if (N1%i == 0) and (N2%i == 0):\n",
        "    print(i, end = \" \")\n",
        "    HCF = i #whenever I find a common factor, override the previous value of HCF\n",
        "    \n",
        "print()\n",
        "print(\"The HCF of\",N1,\"and\",N2,\"is\",HCF)"
      ],
      "metadata": {
        "colab": {
          "base_uri": "https://localhost:8080/"
        },
        "id": "VncwEobypxOM",
        "outputId": "71ebc98b-dd39-4c03-8a5f-691e683c0c39"
      },
      "execution_count": null,
      "outputs": [
        {
          "output_type": "stream",
          "name": "stdout",
          "text": [
            "Enter N1: 3\n",
            "Enter N2: 6\n",
            "1 3 \n",
            "The HCF of 3 and 6 is 3\n"
          ]
        }
      ]
    },
    {
      "cell_type": "code",
      "source": [
        "#1\n",
        "#LCM of N1 and N2\n",
        "\n",
        "N1 = int(input(\"Enter N1: \"))\n",
        "N2 = int(input(\"Enter N2: \"))\n",
        "no_of_iterations = 0\n",
        "\n",
        "if N1 > N2:\n",
        "  start = N1\n",
        "else:\n",
        "  start = N2\n",
        "\n",
        "stop = (N1*N2) + 1\n",
        "\n",
        "for i in range(start,stop):\n",
        "  no_of_iterations += 1\n",
        "  if (i%N1 == 0) and (i%N2 == 0):\n",
        "    print(\"LCM of\",N1,\"and\",N2,\"is\",i)\n",
        "    break\n",
        "\n",
        "print(\"The loop ran\",no_of_iterations,\"times\")"
      ],
      "metadata": {
        "colab": {
          "base_uri": "https://localhost:8080/"
        },
        "id": "3N_6pmha2dfD",
        "outputId": "5b94d115-af21-42be-eead-d621de1075fa"
      },
      "execution_count": null,
      "outputs": [
        {
          "output_type": "stream",
          "name": "stdout",
          "text": [
            "Enter N1: 45\n",
            "Enter N2: 36\n",
            "LCM of 45 and 36 is 180\n",
            "The loop ran 136 times\n"
          ]
        }
      ]
    },
    {
      "cell_type": "code",
      "source": [
        "#2\n",
        "#Optimized version of LCM of N1 and N2\n",
        "\n",
        "N1 = int(input(\"Enter N1: \"))\n",
        "N2 = int(input(\"Enter N2: \"))\n",
        "no_of_iterations = 0\n",
        "\n",
        "if N1 > N2:\n",
        "  start = N1\n",
        "else:\n",
        "  start = N2\n",
        "\n",
        "stop = (N1*N2) + 1\n",
        "step = start\n",
        "\n",
        "for i in range(start,stop,step): #increasing by steps which are multiples of the start value\n",
        "  no_of_iterations += 1\n",
        "  if (i%N1 == 0) and (i%N2 == 0):\n",
        "    print(\"LCM of\",N1,\"and\",N2,\"is\",i)\n",
        "    break\n",
        "\n",
        "print(\"The loop ran\",no_of_iterations,\"times\")"
      ],
      "metadata": {
        "colab": {
          "base_uri": "https://localhost:8080/"
        },
        "id": "Dt2MOAYp5b3G",
        "outputId": "f605946f-2439-44d4-c67b-7ca910ddf686"
      },
      "execution_count": null,
      "outputs": [
        {
          "output_type": "stream",
          "name": "stdout",
          "text": [
            "Enter N1: 45\n",
            "Enter N2: 36\n",
            "LCM of 45 and 36 is 180\n",
            "The loop ran 4 times\n"
          ]
        }
      ]
    },
    {
      "cell_type": "markdown",
      "source": [
        "Program to take user defined \"number of pairs\" (N1,N2)"
      ],
      "metadata": {
        "id": "Aw2ejNYI7CKR"
      }
    },
    {
      "cell_type": "code",
      "source": [
        "x = int(input(\"How many pairs of N1,N2 do you wish to enter: \"))\n",
        "\n",
        "for j in range(1,x+1):\n",
        "  N1 = int(input(\"Enter N1: \"))\n",
        "  N2 = int(input(\"Enter N2: \"))\n",
        "  \n",
        "  #Enter code to find HCF here\n",
        "\n",
        "  #Enter code to find LCM here\n"
      ],
      "metadata": {
        "colab": {
          "base_uri": "https://localhost:8080/"
        },
        "id": "UJW7GWq17HsG",
        "outputId": "dacbb75a-f68e-476b-f917-dd6d2e3d80d7"
      },
      "execution_count": null,
      "outputs": [
        {
          "name": "stdout",
          "output_type": "stream",
          "text": [
            "How many pairs of N1,N2 do you wish to enter: 4\n",
            "Enter N1: 2\n",
            "Enter N2: 3\n",
            "Enter N1: 4\n",
            "Enter N2: 5\n",
            "Enter N1: 6\n",
            "Enter N2: 7\n",
            "Enter N1: 89\n",
            "Enter N2: 100\n"
          ]
        }
      ]
    },
    {
      "cell_type": "code",
      "source": [
        "#homework\n",
        "#For each of the above pairs of N1,N2\n",
        "#print HCF and LCM of N1 and N2"
      ],
      "metadata": {
        "id": "Gy-iDgX87m3k"
      },
      "execution_count": null,
      "outputs": []
    },
    {
      "cell_type": "code",
      "source": [],
      "metadata": {
        "id": "oMEHanMXAbia"
      },
      "execution_count": null,
      "outputs": []
    }
  ]
}